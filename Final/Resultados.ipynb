{
 "cells": [
  {
   "cell_type": "markdown",
   "metadata": {},
   "source": [
    "# Eduardo García Alarcón\n",
    "## Procesamiento Digital de Audio\n",
    "### Proyecto Final\n",
    "#### Algoritmo de MUSIC (*MUltiple SIgnal Classification* )"
   ]
  },
  {
   "cell_type": "markdown",
   "metadata": {},
   "source": [
    "#### Se espera que este proyecto corra de manera similar a lo que se implementará en el proyecto de tesis por lo que se planteó utilizar dos micrófonos para encontrar una fuente.\n",
    "\n",
    "En este caso se toman los audios con frecuencia de muestreo de 48,000 porque son los que tengo descargados en mi computadora.\n",
    "\n",
    "Los ángulos de búsqueda van de -90° a 90° en incrementos de 1°"
   ]
  },
  {
   "cell_type": "code",
   "execution_count": 1,
   "metadata": {},
   "outputs": [],
   "source": [
    "#Bibliotecas \n",
    "import numpy as np\n",
    "from matplotlib import pyplot as plt"
   ]
  },
  {
   "cell_type": "markdown",
   "metadata": {},
   "source": [
    "___"
   ]
  },
  {
   "cell_type": "markdown",
   "metadata": {},
   "source": [
    "#### Primer setup\n",
    "\n",
    "La distancia reportada de los micrófonos es de **.18m**\n",
    "\n",
    "La dirección de arribo la fuente sonora es de **60°**\n",
    "\n",
    "Audio **Clean**"
   ]
  },
  {
   "cell_type": "markdown",
   "metadata": {},
   "source": [
    "Experimento 1\n",
    "\n",
    "*Todas las frecuencias*\n"
   ]
  },
  {
   "cell_type": "code",
   "execution_count": 19,
   "metadata": {},
   "outputs": [],
   "source": [
    "exp1 = np.array([-40, -10, 61, -13, 11, -87, 49, -83, 23, 67, 15, -79, -19, 27, -12, 61, -42, -29, 74, -63, 53, -50, 69, 12, 73, 68, -71])"
   ]
  },
  {
   "cell_type": "markdown",
   "metadata": {},
   "source": [
    "Experimento 2\n",
    "\n",
    "*Mitad de las frecuencias*\n"
   ]
  },
  {
   "cell_type": "code",
   "execution_count": 21,
   "metadata": {},
   "outputs": [],
   "source": [
    "exp2 = np.array([-21,63,-52,-44,60,82,-16,52,28,-49,16,67,74,74,-9,38,-18,77,38,22,57,70,-55,32,-58,19,-61,62,-65,75,58,19,-57,60,64,-35,81,9,58,79,66,36,45,-66,18,-85,73,-69,43,-2,70,71,4,65,48,-37])"
   ]
  },
  {
   "cell_type": "markdown",
   "metadata": {},
   "source": [
    "Experimento 3\n",
    "\n",
    "*Frecuencias de 40 a 40k*"
   ]
  },
  {
   "cell_type": "code",
   "execution_count": 23,
   "metadata": {},
   "outputs": [],
   "source": [
    "exp3 = np.array([80, -32, -18, 61, 23, 19, 26, 58, 52, -4, 73, 78, -20, 32, 28, -45, 74, -51, -40, 18, 37, -3, 63, 44, 28, -75, -36, 63, -70, 17, -20, 36, -49, 72, -69, -40, 42, 64, 70, 84, 24, 63, 72, 69, 60, -7, -20, 28, -88, 28, 60, 35, -57, -84, 56, 73, -11, -13])"
   ]
  },
  {
   "cell_type": "markdown",
   "metadata": {},
   "source": [
    "Resultados"
   ]
  },
  {
   "cell_type": "code",
   "execution_count": 26,
   "metadata": {},
   "outputs": [
    {
     "name": "stdout",
     "output_type": "stream",
     "text": [
      "Para experimento 1 'Todas las frecuencias'\n",
      "El promedio fue de 2.407° con una desviación estándar de 53.09\n",
      "La cantidad de datos para la muestra de audio son 27\n",
      "\n",
      "Para experimento 2 'Mitad de frecuencias'\n",
      "El promedio fue de 20.964° con una desviación estándar de 50.21\n",
      "La cantidad de datos para la muestra de audio son 56\n",
      "\n",
      "Para experimento 3 'Frecuencias del habla'\n",
      "El promedio fue de 16.517° con una desviación estándar de 48.83\n",
      "La cantidad de datos para la muestra de audio son 58\n",
      "\n"
     ]
    }
   ],
   "source": [
    "print(\"Para experimento 1 'Todas las frecuencias'\")\n",
    "print(f\"El promedio fue de {exp1.mean():.3f}° con una desviación estándar de {exp1.std():.2f}\")\n",
    "print(f\"La cantidad de datos para la muestra de audio son {exp1.shape[0]}\\n\")\n",
    "\n",
    "print(\"Para experimento 2 'Mitad de frecuencias'\")\n",
    "print(f\"El promedio fue de {exp2.mean():.3f}° con una desviación estándar de {exp2.std():.2f}\")\n",
    "print(f\"La cantidad de datos para la muestra de audio son {exp2.shape[0]}\\n\")\n",
    "\n",
    "print(\"Para experimento 3 'Frecuencias del habla'\")\n",
    "print(f\"El promedio fue de {exp3.mean():.3f}° con una desviación estándar de {exp3.std():.2f}\")\n",
    "print(f\"La cantidad de datos para la muestra de audio son {exp3.shape[0]}\\n\")"
   ]
  },
  {
   "cell_type": "markdown",
   "metadata": {},
   "source": [
    "----"
   ]
  },
  {
   "cell_type": "markdown",
   "metadata": {},
   "source": [
    "#### Segundo setup\n",
    "\n",
    "La distancia reportada de los micrófonos es de **.20m**\n",
    "\n",
    "La dirección de arribo la fuente sonora es de **0°**\n",
    "\n",
    "Audio **noisy**\n"
   ]
  },
  {
   "cell_type": "markdown",
   "metadata": {},
   "source": [
    "Experimento 4\n",
    "\n",
    "*Todas las frecuencias*"
   ]
  },
  {
   "cell_type": "code",
   "execution_count": 27,
   "metadata": {},
   "outputs": [],
   "source": [
    "exp4 = np.array([7,30,0,-3,-33,27,49,-5,-54,13,14,-70,-70,78,21,1,74,19,-29,-4,-29,20,17,-69,5,64,-80,62,-70,13,-84])"
   ]
  },
  {
   "cell_type": "markdown",
   "metadata": {},
   "source": [
    "Experimento 5\n",
    "\n",
    "*Mitad de frecuencias*"
   ]
  },
  {
   "cell_type": "code",
   "execution_count": 29,
   "metadata": {},
   "outputs": [],
   "source": [
    "exp5 = np.array([53, 1, 85, -28, -7, -14, 10, 49, 51, -80, 58, 19, -17, -7, -80, 70, -71, 40, 58, -64, -35, -59, 23, 3, -18, 89, 23, -39, 61, -59, 15, -86, 63, -42, -35, -52, -13, -74, -4, -30, -17, 52, -16, -69, -41, 71, 60, -80, 88, 5, 33, -3, 67, 12, 81, 81, -31, 69, -9])"
   ]
  },
  {
   "cell_type": "markdown",
   "metadata": {},
   "source": [
    "Experimento 6\n",
    "\n",
    "*Frecuancias de 40 a 40K*"
   ]
  },
  {
   "cell_type": "code",
   "execution_count": 30,
   "metadata": {},
   "outputs": [],
   "source": [
    "exp6 = np.array([76,10,83,76,-40,-60,-68,-85,11,53,-84,35,-84,-71,71,52,22,-72,-8,-26,-86,-34,2,79,-84,89,23,12,63,-19,-59,15,6,20,-25,53,1,-7,49,-47,87,39,37,63,-40,73,-26,-51,-85,69,-69,-3,33,28,7,44,11,75,77,-16,9])"
   ]
  },
  {
   "cell_type": "markdown",
   "metadata": {},
   "source": [
    "Resultados"
   ]
  },
  {
   "cell_type": "code",
   "execution_count": 31,
   "metadata": {},
   "outputs": [
    {
     "name": "stdout",
     "output_type": "stream",
     "text": [
      "Para experimento 1 'Todas las frecuencias'\n",
      "El promedio fue de -2.774° con una desviación estándar de 45.45\n",
      "La cantidad de datos para la muestra de audio son 31\n",
      "\n",
      "Para experimento 2 'Mitad de frecuencias'\n",
      "El promedio fue de 3.559° con una desviación estándar de 51.26\n",
      "La cantidad de datos para la muestra de audio son 59\n",
      "\n",
      "Para experimento 3 'Frecuencias del habla'\n",
      "El promedio fue de 4.984° con una desviación estándar de 53.69\n",
      "La cantidad de datos para la muestra de audio son 61\n",
      "\n"
     ]
    }
   ],
   "source": [
    "print(\"Para experimento 1 'Todas las frecuencias'\")\n",
    "print(f\"El promedio fue de {exp4.mean():.3f}° con una desviación estándar de {exp4.std():.2f}\")\n",
    "print(f\"La cantidad de datos para la muestra de audio son {exp4.shape[0]}\\n\")\n",
    "\n",
    "print(\"Para experimento 2 'Mitad de frecuencias'\")\n",
    "print(f\"El promedio fue de {exp5.mean():.3f}° con una desviación estándar de {exp5.std():.2f}\")\n",
    "print(f\"La cantidad de datos para la muestra de audio son {exp5.shape[0]}\\n\")\n",
    "\n",
    "print(\"Para experimento 3 'Frecuencias del habla'\")\n",
    "print(f\"El promedio fue de {exp6.mean():.3f}° con una desviación estándar de {exp6.std():.2f}\")\n",
    "print(f\"La cantidad de datos para la muestra de audio son {exp6.shape[0]}\\n\")"
   ]
  }
 ],
 "metadata": {
  "kernelspec": {
   "display_name": "Python 3",
   "language": "python",
   "name": "python3"
  },
  "language_info": {
   "codemirror_mode": {
    "name": "ipython",
    "version": 3
   },
   "file_extension": ".py",
   "mimetype": "text/x-python",
   "name": "python",
   "nbconvert_exporter": "python",
   "pygments_lexer": "ipython3",
   "version": "3.10.12"
  }
 },
 "nbformat": 4,
 "nbformat_minor": 2
}
